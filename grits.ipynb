{
 "cells": [
  {
   "cell_type": "markdown",
   "metadata": {},
   "source": [
    "# Coarse graining with CG_Compound class \n",
    "Coarse-graining is a technique which provides a computational speed-up in molecular simulation by abstracting away some atomistic detail and thus reducing the degrees of freedom. One example of a coarse-grain model is the united atom model in which hydrogen atoms are treated implicitly and lumped in with with their heavier neighbors. (e.g., a carbon bonded to three hydrogens, $CH_3$, would be treated as one bead; the bending and stretching degrees of freedom between $C-H$ would be lost.) More examples of coarse-grain models and their benefits can be found in our recent [perspective paper](https://doi.org/10.1016/j.commatsci.2019.109129). \n",
    "\n",
    "This tutorial will demonstrate how to use SMILES strings and the CG_Compound class to create a coarse-grain structure.\n",
    "\n",
    "---\n",
    "**Learning Objectives**\n",
    "1. Understand the motivation behind using a coarse-grain model.\n",
    "1. Use smiles strings to select the coarse-grain beads and initialize systems.\n",
    "1. Prepare a coarse-grain structure for use in molecular simulation.\n",
    "1. Run and analyze a molecular dynamics simulation.\n",
    "---"
   ]
  },
  {
   "cell_type": "code",
   "execution_count": null,
   "metadata": {},
   "outputs": [],
   "source": [
    "# QtCore, needed for interactive visualization, will open a separate python process\n",
    "from PySide2 import QtCore\n",
    "\n",
    "%gui qt"
   ]
  },
  {
   "cell_type": "code",
   "execution_count": null,
   "metadata": {
    "slideshow": {
     "slide_type": "fragment"
    }
   },
   "outputs": [],
   "source": [
    "import warnings\n",
    "\n",
    "import fresnel\n",
    "import fresnel.interact\n",
    "import freud\n",
    "import matplotlib.cm\n",
    "import mbuild as mb\n",
    "import numpy as np\n",
    "import PIL\n",
    "\n",
    "import utils\n",
    "from cg_compound import CG_Compound"
   ]
  },
  {
   "cell_type": "markdown",
   "metadata": {},
   "source": [
    "A CG_Compound uses [class inheritance](https://docs.python.org/3/tutorial/classes.html#inheritance) to build on to the [mbuild.Compound](https://mosdef.org/mbuild/data_structures.html#compound). This allows us to implement already developed tools! Any mbuild compound can be converted to a CG_Compound using `mbuild.Compound.to_pybel()` (then the `coarse` function) or `CG_Compound.from_mbuild()`. In the following cell, we create a dodecane mbuild compound using only a [SMILES string](https://www.daylight.com/dayhtml/doc/theory/theory.smiles.html):"
   ]
  },
  {
   "cell_type": "code",
   "execution_count": null,
   "metadata": {},
   "outputs": [],
   "source": [
    "smiles = \"CCCCCCCCCCCC\"\n",
    "\n",
    "# openbabel has some annoying, useless warning\n",
    "with warnings.catch_warnings():\n",
    "    warnings.simplefilter(\"ignore\")\n",
    "    mb_dodecane = mb.load(smiles, smiles=True)\n",
    "\n",
    "scene = utils.draw_scene(mb_dodecane)\n",
    "fresnel.pathtrace(scene, w=500, h=500, light_samples=10)"
   ]
  },
  {
   "cell_type": "markdown",
   "metadata": {},
   "source": [
    "CG_Compound uses [pybel's SMARTS matching](http://openbabel.org/docs/current/UseTheLibrary/Python_Pybel.html#smarts-matching) to identify the beads based on the provided bead strings. Because neither the mbuild.Compound nor the CG_Compound keep track of the bond order, the bond order update has to be forced after conversion to a pybel mol. \n",
    "\n",
    "Then using the `coarse` function, the user can select a SMILES/SMARTS string used to detect the bead and a name for the bead. In this example, the three alkyl carbon SMILES string from the features dictionary generates a coarse-grain structure for nonane, which reduces the 35 atom structure to just 4 beads! "
   ]
  },
  {
   "cell_type": "code",
   "execution_count": null,
   "metadata": {},
   "outputs": [],
   "source": [
    "with warnings.catch_warnings():\n",
    "    warnings.simplefilter(\"ignore\")\n",
    "\n",
    "    # convert to pybel mol\n",
    "    mol = mb_dodecane.to_pybel()\n",
    "\n",
    "    # to_pybel imports all bonds as order=1, this will type the bond correctly\n",
    "    # if the structure is good\n",
    "    mol.OBMol.PerceiveBondOrders()\n",
    "    \n",
    "    cg_dodecane = utils.coarse(mol, [(\"_C3\", \"CCC\")])\n",
    "\n",
    "# Visualize the compound imposed over the atomistic structure \n",
    "# with the show_atomistic flag\n",
    "scene = utils.draw_scene(cg_dodecane, show_atomistic=True)"
   ]
  },
  {
   "cell_type": "code",
   "execution_count": null,
   "metadata": {},
   "outputs": [],
   "source": [
    "view = fresnel.interact.SceneView(scene)\n",
    "view"
   ]
  },
  {
   "cell_type": "markdown",
   "metadata": {},
   "source": [
    "By building on the functionality of mbuild, it is straight-forward to export your coarse-grain structure to any chemical format already supported by mbuild. More about the mbuild.Compound `save` function [here](https://mosdef.org/mbuild/data_structures.html#mbuild.compound.Compound.save)."
   ]
  },
  {
   "cell_type": "code",
   "execution_count": null,
   "metadata": {},
   "outputs": [],
   "source": [
    "# Save to a file. Other possible extensions include: \n",
    "# ‘hoomdxml’, ‘gro’, ‘top’, ‘lammps’, ‘lmp’, ‘json’\n",
    "cg_dodecane.save(\"dodecane.gsd\", overwrite=True);\n",
    "\n",
    "# Visualize just the coarse-grained compound, which is what is saved\n",
    "scene = utils.draw_scene(cg_dodecane)\n",
    "fresnel.pathtrace(scene, w=500, h=500, light_samples=10)"
   ]
  },
  {
   "cell_type": "markdown",
   "metadata": {},
   "source": [
    "\n",
    "\n",
    "\n",
    "Try out different coarse-grain mappings! What happens if you use 2, 4 or 6 alkyl carbons?\n",
    "Replace `YOUR_BEAD_NAME` and `YOUR_SMILES_STRING`:"
   ]
  },
  {
   "cell_type": "code",
   "execution_count": null,
   "metadata": {},
   "outputs": [],
   "source": [
    "cg_name = \"YOUR_BEAD_NAME\"\n",
    "smiles = \"YOUR_SMILES_STRING\"\n",
    "\n",
    "cg_dodecane = utils.coarse(mol, [(cg_name, smiles)])\n",
    "\n",
    "scene = utils.draw_scene(cg_dodecane, show_atomistic=True)\n",
    "fresnel.interact.SceneView(scene)"
   ]
  },
  {
   "cell_type": "markdown",
   "metadata": {},
   "source": [
    "The next example shows how a coarse-grain structure can be mapped to frames of a molecular dynamics trajectory and how to handle some of the issues with coarse-graining arbitrary structures with SMILES strings. This coarse-grain mapping could be the starting point for iterative Boltzmann inversion (IBI): an example IBI code written by McCabe's group at Vanderbilt which implements a multi-state flavor can be found [here](https://github.com/mosdef-hub/msibi). \n",
    "\n",
    "The trajectory file (gsd) was created using [PlanckTon](https://bitbucket.org/cmelab/planckton/src/master/) which simplifies the set up and submission of large parameter sweeps by tying together multiple simulation tools."
   ]
  },
  {
   "cell_type": "code",
   "execution_count": null,
   "metadata": {},
   "outputs": [],
   "source": [
    "# Download the gsd file\n",
    "!wget https://bitbucket.org/cmelab/msibi_tests/downloads/P3HT_4-density_0.75-n_compounds_20-traj.gsd"
   ]
  },
  {
   "cell_type": "code",
   "execution_count": null,
   "metadata": {},
   "outputs": [],
   "source": [
    "gsdfile = \"P3HT_4-density_0.75-n_compounds_20-traj.gsd\"\n",
    "\n",
    "# Coordinates are scaled from planckton sigma units\n",
    "scale_factor = 0.356\n",
    "comp0 = CG_Compound.from_gsd(gsdfile, frame=0, scale=scale_factor)\n",
    "\n",
    "# The gsd from PlanckTon was run using the General AMBER Force Field (GAFF)\n",
    "# and pybel will not correctly parse particles with AMBER typing\n",
    "comp0.amber_to_element()\n",
    "\n",
    "# Molecular dynamics simulations in HOOMD use periodic boundary conditions,\n",
    "# so, in order to identify the beads, the frame must be unwrapped.\n",
    "# The unwrap feature won't move particles if the compound doesn't have bonds\n",
    "# that span the periodic boundary -- note the \"no changes made\" message\n",
    "comp0.unwrap()\n",
    "\n",
    "mol0 = comp0.to_pybel(box=comp0.box)\n",
    "\n",
    "# to_pybel imports all bonds as order=1, this will type the bond correctly\n",
    "# if the structure is good\n",
    "mol0.OBMol.PerceiveBondOrders()"
   ]
  },
  {
   "cell_type": "code",
   "execution_count": null,
   "metadata": {},
   "outputs": [],
   "source": [
    "# Notice that the initial frame is typed correctly\n",
    "# the structure is good so pybel can type it\n",
    "cg_comp0 = utils.coarse(mol0, \n",
    "                        [(\"_B\", \"c1sccc1\"), \n",
    "                         (\"_S\", \"CCC\")]\n",
    "                       )\n",
    "\n",
    "scene = utils.draw_scene(cg_comp0, show_atomistic=True, show_box=True, color=\"coolwarm\")\n",
    "fresnel.interact.SceneView(scene)"
   ]
  },
  {
   "cell_type": "markdown",
   "metadata": {},
   "source": [
    "**The starting structure of the atomistic compound matters!** If your starting is unphysical (e.g., non-planar aromatic rings), then pybel's SMARTS matching will not recognise the beads correctly. In the following cells we show a workaround for the last (distorted) frame of the trajectory which works as long as the first frame has a chemically sound structure:"
   ]
  },
  {
   "cell_type": "code",
   "execution_count": null,
   "metadata": {},
   "outputs": [],
   "source": [
    "# same process as above but with last frame of trajectory\n",
    "comp1 = CG_Compound.from_gsd(gsdfile, frame=-1, scale=scale_factor)\n",
    "\n",
    "comp1.amber_to_element()\n",
    "\n",
    "# PlanckTon initializes with a large volume then shrinks, so this last frame\n",
    "# has a lot of bonds that span the periodic bounary\n",
    "comp1.visualize().show();"
   ]
  },
  {
   "cell_type": "code",
   "execution_count": null,
   "metadata": {},
   "outputs": [],
   "source": [
    "# the bonds that span the boundary can be fixed using unwrap\n",
    "# the function will iterate until all bonds are fixed\n",
    "comp1.unwrap()\n",
    "\n",
    "comp1.visualize().show();"
   ]
  },
  {
   "cell_type": "code",
   "execution_count": null,
   "metadata": {},
   "outputs": [],
   "source": [
    "mol1 = comp1.to_pybel(box=comp1.box)\n",
    "mol1.OBMol.PerceiveBondOrders()\n",
    "\n",
    "# Even with fixing pbc issues, the last frame is distorted enough that\n",
    "# pybel can't recognise the features (bendy aromatic rings are NO)\n",
    "# note the \"WARNING\" message\n",
    "cg_comp1 = utils.coarse(mol1, \n",
    "                        [(\"_B\", features[\"thiophene\"]), (\"_S\",features[\"alkyl_3\"])]\n",
    "                       )\n",
    "\n",
    "cg_comp1.visualize(\n",
    "    color_scheme={\"_B\": \"blue\", \"_S\": \"orange\"}, show_atomistic=True\n",
    ").show()"
   ]
  },
  {
   "cell_type": "code",
   "execution_count": null,
   "metadata": {},
   "outputs": [],
   "source": [
    "# But since these are from the same trajectory, they have \n",
    "# the same number of particles in the same order, so we can\n",
    "# \"fix\" the bad morphology using the good one!\n",
    "mol1_fixed = utils.map_good_on_bad(mol0, mol1)\n",
    "\n",
    "# And it's fixed =D\n",
    "cg_comp1_fixed = utils.coarse(mol1_fixed,\n",
    "                              [(\"_B\", features[\"thiophene\"]), \n",
    "                               (\"_S\", features[\"alkyl_3\"])]\n",
    "                             )\n",
    "\n",
    "cg_comp1_fixed.visualize(color_scheme={\"_B\": \"blue\", \"_S\": \"orange\"}).show();\n",
    "\n",
    "# and we can rewrap it into the box\n",
    "cg_comp1_fixed.wrap()\n",
    "\n",
    "cg_comp1_fixed.visualize(color_scheme={\"_B\": \"blue\", \"_S\": \"orange\"}).show();"
   ]
  },
  {
   "cell_type": "code",
   "execution_count": null,
   "metadata": {},
   "outputs": [],
   "source": []
  }
 ],
 "metadata": {
  "kernelspec": {
   "display_name": "Python 3",
   "language": "python",
   "name": "python3"
  },
  "language_info": {
   "codemirror_mode": {
    "name": "ipython",
    "version": 3
   },
   "file_extension": ".py",
   "mimetype": "text/x-python",
   "name": "python",
   "nbconvert_exporter": "python",
   "pygments_lexer": "ipython3",
   "version": "3.7.3"
  }
 },
 "nbformat": 4,
 "nbformat_minor": 4
}
