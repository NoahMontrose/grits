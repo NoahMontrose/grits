{
 "cells": [
  {
   "cell_type": "markdown",
   "metadata": {
    "tags": []
   },
   "source": [
    "# Using GRiTS on simulation data"
   ]
  },
  {
   "cell_type": "code",
   "execution_count": 1,
   "metadata": {
    "slideshow": {
     "slide_type": "fragment"
    }
   },
   "outputs": [],
   "source": [
    "import numpy as np\n",
    "import mbuild as mb\n",
    "\n",
    "from grits import CG_System\n",
    "from grits.utils import amber_dict"
   ]
  },
  {
   "cell_type": "markdown",
   "metadata": {
    "tags": []
   },
   "source": [
    "### Coarse-graining\n",
    "\n",
    "Words, pictures of itic, p3ht\n",
    "![structures](p3ht-itic.png)\n",
    "\n",
    "explanation of how grits works and the assumptions it makes when working with gsd files."
   ]
  },
  {
   "cell_type": "code",
   "execution_count": 2,
   "metadata": {},
   "outputs": [
    {
     "data": {
      "application/3dmoljs_load.v0": "<div id=\"3dmolviewer_16340781153431108\"  style=\"position: relative; width: 640px; height: 480px\">\n        <p id=\"3dmolwarning_16340781153431108\" style=\"background-color:#ffcccc;color:black\">You appear to be running in JupyterLab (or JavaScript failed to load for some other reason).  You need to install the 3dmol extension: <br>\n        <tt>jupyter labextension install jupyterlab_3dmol</tt></p>\n        </div>\n<script>\n\nvar loadScriptAsync = function(uri){\n  return new Promise((resolve, reject) => {\n    var tag = document.createElement('script');\n    tag.src = uri;\n    tag.async = true;\n    tag.onload = () => {\n      resolve();\n    };\n  var firstScriptTag = document.getElementsByTagName('script')[0];\n  firstScriptTag.parentNode.insertBefore(tag, firstScriptTag);\n});\n};\n\nif(typeof $3Dmolpromise === 'undefined') {\n$3Dmolpromise = null;\n  $3Dmolpromise = loadScriptAsync('https://3dmol.org/build/3Dmol.js');\n}\n\nvar viewer_16340781153431108 = null;\nvar warn = document.getElementById(\"3dmolwarning_16340781153431108\");\nif(warn) {\n    warn.parentNode.removeChild(warn);\n}\n$3Dmolpromise.then(function() {\nviewer_16340781153431108 = $3Dmol.createViewer($(\"#3dmolviewer_16340781153431108\"),{backgroundColor:\"white\"});\nviewer_16340781153431108.zoomTo();\n\tviewer_16340781153431108.addModel(\"@<TRIPOS>MOLECULE\\nRES\\n28 32 1 0 1\\nSMALL\\nNO_CHARGES\\n@<TRIPOS>CRYSIN\\n   17.4668    10.1474     8.6779    90.0000    90.0000    90.0000  1  1\\n@<TRIPOS>ATOM\\n       1 C           -0.3070    -1.2637     0.4982 C             1 RES     \\n       2 C           -1.3040    -0.3722     0.0853 C             1 RES     \\n       3 C           -1.0182     0.8610    -0.5117 C             1 RES     \\n       4 C            0.3070     1.2637    -0.7257 C             1 RES     \\n       5 C            1.3040     0.3722    -0.3129 C             1 RES     \\n       6 C            1.0182    -0.8610     0.2841 C             1 RES     \\n       7 C            2.2807    -1.6201     0.6292 C             1 RES     \\n       8 C            3.3050    -0.6402     0.1425 C             1 RES     \\n       9 C            2.7357     0.4697    -0.3819 C             1 RES     \\n      10 S            3.8894     1.5551    -0.9214 S             1 RES     \\n      11 C            5.1859     0.5474    -0.4574 C             1 RES     \\n      12 C            4.6962    -0.6326     0.1172 C             1 RES     \\n      13 C           -2.2807     1.6200    -0.8568 C             1 RES     \\n      14 C           -3.3050     0.6402    -0.3700 C             1 RES     \\n      15 C           -2.7356    -0.4697     0.1544 C             1 RES     \\n      16 S           -3.8894    -1.5551     0.6939 S             1 RES     \\n      17 C           -5.1859    -0.5474     0.2299 C             1 RES     \\n      18 C           -4.6962     0.6326    -0.3447 C             1 RES     \\n      19 H           -0.5466    -2.2134     0.9582 H             1 RES     \\n      20 H            0.5466     2.2134    -1.1857 H             1 RES     \\n      21 H            2.3672    -1.7755     1.7252 H             1 RES     \\n      22 H            2.3413    -2.5737     0.0640 H             1 RES     \\n      23 H            6.2334     0.7832    -0.5870 H             1 RES     \\n      24 H            5.3185    -1.4338     0.4925 H             1 RES     \\n      25 H           -2.3672     1.7755    -1.9527 H             1 RES     \\n      26 H           -2.3413     2.5737    -0.2915 H             1 RES     \\n      27 H           -6.2334    -0.7832     0.3595 H             1 RES     \\n      28 H           -5.3184     1.4338    -0.7200 H             1 RES     \\n@<TRIPOS>BOND\\n       1        1        2 1\\n       2        3        2 1\\n       3       15        2 1\\n       4        6        1 1\\n       5       19        1 1\\n       6        5        6 1\\n       7        7        6 1\\n       8        4        3 1\\n       9       13        3 1\\n      10       14       15 1\\n      11       16       15 1\\n      12        5        4 1\\n      13       20        4 1\\n      14       14       13 1\\n      15       25       13 1\\n      16       26       13 1\\n      17        9        5 1\\n      18        8        9 1\\n      19       10        9 1\\n      20        8        7 1\\n      21       21        7 1\\n      22       22        7 1\\n      23       12        8 1\\n      24       11       12 1\\n      25       24       12 1\\n      26       11       10 1\\n      27       23       11 1\\n      28       18       14 1\\n      29       17       18 1\\n      30       28       18 1\\n      31       17       16 1\\n      32       27       17 1\\n@<TRIPOS>SUBSTRUCTURE\\n       1 RES             1 RESIDUE    0 **** ROOT      0\\n\",\"mol2\");\n\tviewer_16340781153431108.setStyle({\"stick\": {\"radius\": 0.2, \"color\": \"grey\"}, \"sphere\": {\"scale\": 0.3, \"colorscheme\": {}}});\n\tviewer_16340781153431108.zoomTo();\nviewer_16340781153431108.render();\n});\n</script>",
      "text/html": [
       "<div id=\"3dmolviewer_16340781153431108\"  style=\"position: relative; width: 640px; height: 480px\">\n",
       "        <p id=\"3dmolwarning_16340781153431108\" style=\"background-color:#ffcccc;color:black\">You appear to be running in JupyterLab (or JavaScript failed to load for some other reason).  You need to install the 3dmol extension: <br>\n",
       "        <tt>jupyter labextension install jupyterlab_3dmol</tt></p>\n",
       "        </div>\n",
       "<script>\n",
       "\n",
       "var loadScriptAsync = function(uri){\n",
       "  return new Promise((resolve, reject) => {\n",
       "    var tag = document.createElement('script');\n",
       "    tag.src = uri;\n",
       "    tag.async = true;\n",
       "    tag.onload = () => {\n",
       "      resolve();\n",
       "    };\n",
       "  var firstScriptTag = document.getElementsByTagName('script')[0];\n",
       "  firstScriptTag.parentNode.insertBefore(tag, firstScriptTag);\n",
       "});\n",
       "};\n",
       "\n",
       "if(typeof $3Dmolpromise === 'undefined') {\n",
       "$3Dmolpromise = null;\n",
       "  $3Dmolpromise = loadScriptAsync('https://3dmol.org/build/3Dmol.js');\n",
       "}\n",
       "\n",
       "var viewer_16340781153431108 = null;\n",
       "var warn = document.getElementById(\"3dmolwarning_16340781153431108\");\n",
       "if(warn) {\n",
       "    warn.parentNode.removeChild(warn);\n",
       "}\n",
       "$3Dmolpromise.then(function() {\n",
       "viewer_16340781153431108 = $3Dmol.createViewer($(\"#3dmolviewer_16340781153431108\"),{backgroundColor:\"white\"});\n",
       "viewer_16340781153431108.zoomTo();\n",
       "\tviewer_16340781153431108.addModel(\"@<TRIPOS>MOLECULE\\nRES\\n28 32 1 0 1\\nSMALL\\nNO_CHARGES\\n@<TRIPOS>CRYSIN\\n   17.4668    10.1474     8.6779    90.0000    90.0000    90.0000  1  1\\n@<TRIPOS>ATOM\\n       1 C           -0.3070    -1.2637     0.4982 C             1 RES     \\n       2 C           -1.3040    -0.3722     0.0853 C             1 RES     \\n       3 C           -1.0182     0.8610    -0.5117 C             1 RES     \\n       4 C            0.3070     1.2637    -0.7257 C             1 RES     \\n       5 C            1.3040     0.3722    -0.3129 C             1 RES     \\n       6 C            1.0182    -0.8610     0.2841 C             1 RES     \\n       7 C            2.2807    -1.6201     0.6292 C             1 RES     \\n       8 C            3.3050    -0.6402     0.1425 C             1 RES     \\n       9 C            2.7357     0.4697    -0.3819 C             1 RES     \\n      10 S            3.8894     1.5551    -0.9214 S             1 RES     \\n      11 C            5.1859     0.5474    -0.4574 C             1 RES     \\n      12 C            4.6962    -0.6326     0.1172 C             1 RES     \\n      13 C           -2.2807     1.6200    -0.8568 C             1 RES     \\n      14 C           -3.3050     0.6402    -0.3700 C             1 RES     \\n      15 C           -2.7356    -0.4697     0.1544 C             1 RES     \\n      16 S           -3.8894    -1.5551     0.6939 S             1 RES     \\n      17 C           -5.1859    -0.5474     0.2299 C             1 RES     \\n      18 C           -4.6962     0.6326    -0.3447 C             1 RES     \\n      19 H           -0.5466    -2.2134     0.9582 H             1 RES     \\n      20 H            0.5466     2.2134    -1.1857 H             1 RES     \\n      21 H            2.3672    -1.7755     1.7252 H             1 RES     \\n      22 H            2.3413    -2.5737     0.0640 H             1 RES     \\n      23 H            6.2334     0.7832    -0.5870 H             1 RES     \\n      24 H            5.3185    -1.4338     0.4925 H             1 RES     \\n      25 H           -2.3672     1.7755    -1.9527 H             1 RES     \\n      26 H           -2.3413     2.5737    -0.2915 H             1 RES     \\n      27 H           -6.2334    -0.7832     0.3595 H             1 RES     \\n      28 H           -5.3184     1.4338    -0.7200 H             1 RES     \\n@<TRIPOS>BOND\\n       1        1        2 1\\n       2        3        2 1\\n       3       15        2 1\\n       4        6        1 1\\n       5       19        1 1\\n       6        5        6 1\\n       7        7        6 1\\n       8        4        3 1\\n       9       13        3 1\\n      10       14       15 1\\n      11       16       15 1\\n      12        5        4 1\\n      13       20        4 1\\n      14       14       13 1\\n      15       25       13 1\\n      16       26       13 1\\n      17        9        5 1\\n      18        8        9 1\\n      19       10        9 1\\n      20        8        7 1\\n      21       21        7 1\\n      22       22        7 1\\n      23       12        8 1\\n      24       11       12 1\\n      25       24       12 1\\n      26       11       10 1\\n      27       23       11 1\\n      28       18       14 1\\n      29       17       18 1\\n      30       28       18 1\\n      31       17       16 1\\n      32       27       17 1\\n@<TRIPOS>SUBSTRUCTURE\\n       1 RES             1 RESIDUE    0 **** ROOT      0\\n\",\"mol2\");\n",
       "\tviewer_16340781153431108.setStyle({\"stick\": {\"radius\": 0.2, \"color\": \"grey\"}, \"sphere\": {\"scale\": 0.3, \"colorscheme\": {}}});\n",
       "\tviewer_16340781153431108.zoomTo();\n",
       "viewer_16340781153431108.render();\n",
       "});\n",
       "</script>"
      ]
     },
     "metadata": {},
     "output_type": "display_data"
    },
    {
     "data": {
      "application/3dmoljs_load.v0": "<div id=\"3dmolviewer_1634078115356522\"  style=\"position: relative; width: 640px; height: 480px\">\n        <p id=\"3dmolwarning_1634078115356522\" style=\"background-color:#ffcccc;color:black\">You appear to be running in JupyterLab (or JavaScript failed to load for some other reason).  You need to install the 3dmol extension: <br>\n        <tt>jupyter labextension install jupyterlab_3dmol</tt></p>\n        </div>\n<script>\n\nvar loadScriptAsync = function(uri){\n  return new Promise((resolve, reject) => {\n    var tag = document.createElement('script');\n    tag.src = uri;\n    tag.async = true;\n    tag.onload = () => {\n      resolve();\n    };\n  var firstScriptTag = document.getElementsByTagName('script')[0];\n  firstScriptTag.parentNode.insertBefore(tag, firstScriptTag);\n});\n};\n\nif(typeof $3Dmolpromise === 'undefined') {\n$3Dmolpromise = null;\n  $3Dmolpromise = loadScriptAsync('https://3dmol.org/build/3Dmol.js');\n}\n\nvar viewer_1634078115356522 = null;\nvar warn = document.getElementById(\"3dmolwarning_1634078115356522\");\nif(warn) {\n    warn.parentNode.removeChild(warn);\n}\n$3Dmolpromise.then(function() {\nviewer_1634078115356522 = $3Dmol.createViewer($(\"#3dmolviewer_1634078115356522\"),{backgroundColor:\"white\"});\nviewer_1634078115356522.zoomTo();\n\tviewer_1634078115356522.addModel(\"@<TRIPOS>MOLECULE\\nRES\\n9 9 1 0 1\\nSMALL\\nNO_CHARGES\\n@<TRIPOS>CRYSIN\\n    9.6202     8.2947     5.2326    90.0000    90.0000    90.0000  1  1\\n@<TRIPOS>ATOM\\n       1 C            0.6999    -0.6795    -0.0375 C             1 RES     \\n       2 C            1.2539     0.5927    -0.0611 C             1 RES     \\n       3 S           -0.0016     1.7078     0.0059 S             1 RES     \\n       4 C           -1.2550     0.5899     0.0652 C             1 RES     \\n       5 C           -0.6986    -0.6811     0.0329 C             1 RES     \\n       6 H            1.2926    -1.5840    -0.0704 H             1 RES     \\n       7 H            2.3093     0.8231    -0.1135 H             1 RES     \\n       8 H           -2.3109     0.8179     0.1191 H             1 RES     \\n       9 H           -1.2896    -1.5869     0.0595 H             1 RES     \\n@<TRIPOS>BOND\\n       1        1        2 1\\n       2        3        2 1\\n       3        7        2 1\\n       4        5        1 1\\n       5        6        1 1\\n       6        4        5 1\\n       7        9        5 1\\n       8        4        3 1\\n       9        8        4 1\\n@<TRIPOS>SUBSTRUCTURE\\n       1 RES             1 RESIDUE    0 **** ROOT      0\\n\",\"mol2\");\n\tviewer_1634078115356522.setStyle({\"stick\": {\"radius\": 0.2, \"color\": \"grey\"}, \"sphere\": {\"scale\": 0.3, \"colorscheme\": {}}});\n\tviewer_1634078115356522.zoomTo();\nviewer_1634078115356522.render();\n});\n</script>",
      "text/html": [
       "<div id=\"3dmolviewer_1634078115356522\"  style=\"position: relative; width: 640px; height: 480px\">\n",
       "        <p id=\"3dmolwarning_1634078115356522\" style=\"background-color:#ffcccc;color:black\">You appear to be running in JupyterLab (or JavaScript failed to load for some other reason).  You need to install the 3dmol extension: <br>\n",
       "        <tt>jupyter labextension install jupyterlab_3dmol</tt></p>\n",
       "        </div>\n",
       "<script>\n",
       "\n",
       "var loadScriptAsync = function(uri){\n",
       "  return new Promise((resolve, reject) => {\n",
       "    var tag = document.createElement('script');\n",
       "    tag.src = uri;\n",
       "    tag.async = true;\n",
       "    tag.onload = () => {\n",
       "      resolve();\n",
       "    };\n",
       "  var firstScriptTag = document.getElementsByTagName('script')[0];\n",
       "  firstScriptTag.parentNode.insertBefore(tag, firstScriptTag);\n",
       "});\n",
       "};\n",
       "\n",
       "if(typeof $3Dmolpromise === 'undefined') {\n",
       "$3Dmolpromise = null;\n",
       "  $3Dmolpromise = loadScriptAsync('https://3dmol.org/build/3Dmol.js');\n",
       "}\n",
       "\n",
       "var viewer_1634078115356522 = null;\n",
       "var warn = document.getElementById(\"3dmolwarning_1634078115356522\");\n",
       "if(warn) {\n",
       "    warn.parentNode.removeChild(warn);\n",
       "}\n",
       "$3Dmolpromise.then(function() {\n",
       "viewer_1634078115356522 = $3Dmol.createViewer($(\"#3dmolviewer_1634078115356522\"),{backgroundColor:\"white\"});\n",
       "viewer_1634078115356522.zoomTo();\n",
       "\tviewer_1634078115356522.addModel(\"@<TRIPOS>MOLECULE\\nRES\\n9 9 1 0 1\\nSMALL\\nNO_CHARGES\\n@<TRIPOS>CRYSIN\\n    9.6202     8.2947     5.2326    90.0000    90.0000    90.0000  1  1\\n@<TRIPOS>ATOM\\n       1 C            0.6999    -0.6795    -0.0375 C             1 RES     \\n       2 C            1.2539     0.5927    -0.0611 C             1 RES     \\n       3 S           -0.0016     1.7078     0.0059 S             1 RES     \\n       4 C           -1.2550     0.5899     0.0652 C             1 RES     \\n       5 C           -0.6986    -0.6811     0.0329 C             1 RES     \\n       6 H            1.2926    -1.5840    -0.0704 H             1 RES     \\n       7 H            2.3093     0.8231    -0.1135 H             1 RES     \\n       8 H           -2.3109     0.8179     0.1191 H             1 RES     \\n       9 H           -1.2896    -1.5869     0.0595 H             1 RES     \\n@<TRIPOS>BOND\\n       1        1        2 1\\n       2        3        2 1\\n       3        7        2 1\\n       4        5        1 1\\n       5        6        1 1\\n       6        4        5 1\\n       7        9        5 1\\n       8        4        3 1\\n       9        8        4 1\\n@<TRIPOS>SUBSTRUCTURE\\n       1 RES             1 RESIDUE    0 **** ROOT      0\\n\",\"mol2\");\n",
       "\tviewer_1634078115356522.setStyle({\"stick\": {\"radius\": 0.2, \"color\": \"grey\"}, \"sphere\": {\"scale\": 0.3, \"colorscheme\": {}}});\n",
       "\tviewer_1634078115356522.zoomTo();\n",
       "viewer_1634078115356522.render();\n",
       "});\n",
       "</script>"
      ]
     },
     "metadata": {},
     "output_type": "display_data"
    }
   ],
   "source": [
    "itic_backbone = \"c1c4c(cc2c1Cc3c2scc3)Cc5c4scc5\"\n",
    "thiophene = \"c1cscc1\"\n",
    "a = mb.load(itic_backbone, smiles=True)\n",
    "a.visualize().show()\n",
    "\n",
    "b = mb.load(thiophene, smiles=True)\n",
    "b.visualize().show()"
   ]
  },
  {
   "cell_type": "code",
   "execution_count": 3,
   "metadata": {},
   "outputs": [
    {
     "name": "stderr",
     "output_type": "stream",
     "text": [
      "==============================\n",
      "*** Open Babel Warning  in PerceiveBondOrders\n",
      "  Failed to kekulize aromatic bonds in OBMol::PerceiveBondOrders (title is Compound)\n",
      "\n",
      "/Users/jenny/Projects/grits/grits/coarsegrain.py:150: UserWarning: Some atoms have been left out of coarse-graining!\n",
      "  warn(\"Some atoms have been left out of coarse-graining!\")\n"
     ]
    },
    {
     "name": "stdout",
     "output_type": "stream",
     "text": [
      "CPU times: user 3.55 s, sys: 68.2 ms, total: 3.62 s\n",
      "Wall time: 3.95 s\n"
     ]
    },
    {
     "name": "stderr",
     "output_type": "stream",
     "text": [
      "/Users/jenny/Projects/grits/grits/coarsegrain.py:120: UserWarning: c1c4c(cc2c1Cc3c2scc3)Cc5c4scc5 not found in compound!\n",
      "  warn(f\"{smart_str} not found in compound!\")\n"
     ]
    }
   ],
   "source": [
    "gsdfile = \"../grits/tests/assets/itic-p3ht.gsd\"\n",
    "system = CG_System(\n",
    "    gsdfile, \n",
    "    beads={\"_A\": itic_backbone, \"_B\" : thiophene}, \n",
    "    conversion_dict=amber_dict\n",
    ")"
   ]
  },
  {
   "cell_type": "code",
   "execution_count": 4,
   "metadata": {},
   "outputs": [
    {
     "name": "stdout",
     "output_type": "stream",
     "text": [
      "CPU times: user 29.4 ms, sys: 8.79 ms, total: 38.2 ms\n",
      "Wall time: 59.6 ms\n"
     ]
    }
   ],
   "source": [
    "cg_gsd = \"itic-p3ht-cg.gsd\"\n",
    "system.save(cg_gsd)"
   ]
  },
  {
   "cell_type": "markdown",
   "metadata": {},
   "source": [
    "View these in [OVITO](https://www.ovito.org/) or [VMD](https://www.ks.uiuc.edu/Research/vmd/) with [the gsd-vmd plugin](https://github.com/mphowardlab/gsd-vmd).\n",
    "\n",
    "![itic](cg-itic.png)\n",
    "![p3ht](cg-p3ht.png)"
   ]
  },
  {
   "cell_type": "code",
   "execution_count": 5,
   "metadata": {},
   "outputs": [
    {
     "name": "stdout",
     "output_type": "stream",
     "text": [
      "Mapping saved to itic-p3ht-cg.json\n"
     ]
    }
   ],
   "source": [
    "cg_json = \"itic-p3ht-cg.json\"\n",
    "system.save_mapping(cg_json)"
   ]
  },
  {
   "cell_type": "code",
   "execution_count": 6,
   "metadata": {},
   "outputs": [
    {
     "name": "stdout",
     "output_type": "stream",
     "text": [
      "CPU times: user 33.6 ms, sys: 10.5 ms, total: 44.2 ms\n",
      "Wall time: 57.1 ms\n"
     ]
    }
   ],
   "source": [
    "map_system = CG_System(gsdfile, mapping=cg_json, conversion_dict=amber_dict)\n",
    "\n",
    "map_cg_gsd = \"map-itic-p3ht-cg.gsd\"\n",
    "system.save(map_cg_gsd)"
   ]
  },
  {
   "cell_type": "markdown",
   "metadata": {},
   "source": [
    "### Fine-graining\n",
    "\n",
    "WIP"
   ]
  },
  {
   "cell_type": "code",
   "execution_count": null,
   "metadata": {},
   "outputs": [],
   "source": []
  }
 ],
 "metadata": {
  "kernelspec": {
   "display_name": "Python 3 (ipykernel)",
   "language": "python",
   "name": "python3"
  },
  "language_info": {
   "codemirror_mode": {
    "name": "ipython",
    "version": 3
   },
   "file_extension": ".py",
   "mimetype": "text/x-python",
   "name": "python",
   "nbconvert_exporter": "python",
   "pygments_lexer": "ipython3",
   "version": "3.8.12"
  }
 },
 "nbformat": 4,
 "nbformat_minor": 4
}
